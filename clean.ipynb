{
 "cells": [
  {
   "cell_type": "code",
   "execution_count": 1,
   "metadata": {},
   "outputs": [],
   "source": [
    "import cv2\n",
    "import numpy as np\n",
    "import matplotlib.pyplot as plt\n",
    "import cv2\n",
    "import numpy as np\n",
    "\n",
    "# Load the image\n",
    "image_path = \"docs/scan.jpeg\"  # Replace with your image path\n",
    "output_path = \"docs/output_cleaned.jpg\"  # Replace with desired output path\n",
    "image = cv2.imread(image_path)\n",
    "if image is None:\n",
    "    raise FileNotFoundError(f\"Could not read image at {image_path}\")\n"
   ]
  },
  {
   "cell_type": "code",
   "execution_count": 2,
   "metadata": {},
   "outputs": [],
   "source": [
    "# Convert to HSV color space for better blue detection\n",
    "hsv_image = cv2.cvtColor(image, cv2.COLOR_BGR2HSV)\n",
    "\n",
    "# Define range for blue color (adjust these values based on your image)\n",
    "lower_blue = np.array([100, 50, 50])  # Lower bound for blue in HSV\n",
    "upper_blue = np.array([130, 255, 255])  # Upper bound for blue in HSV\n",
    "blue_mask = cv2.inRange(hsv_image, lower_blue, upper_blue)\n",
    "\n",
    "# Invert the blue mask to use it for removing blue ink\n",
    "blue_mask_inv = cv2.bitwise_not(blue_mask)\n",
    "\n",
    "# Create a mask for black content (low intensity in all channels)\n",
    "gray_image = cv2.cvtColor(image, cv2.COLOR_BGR2GRAY)\n",
    "black_mask = cv2.threshold(gray_image, 110, 255, cv2.THRESH_BINARY_INV)[1]  # Adjust threshold (100) as needed\n",
    "\n",
    "# Combine masks to keep black content and remove blue ink\n",
    "combined_mask = cv2.bitwise_and(black_mask, blue_mask_inv)\n",
    "\n",
    "# Apply the mask to the original image to retain only black content\n",
    "clean_image = cv2.bitwise_and(image, image, mask=combined_mask)\n",
    "\n",
    "# Convert to grayscale for enhancement\n",
    "clean_gray = cv2.cvtColor(clean_image, cv2.COLOR_BGR2GRAY)\n",
    "\n",
    "# Enhance contrast using CLAHE\n",
    "clahe = cv2.createCLAHE(clipLimit=2.0, tileGridSize=(8, 8))\n",
    "enhanced = clahe.apply(clean_gray)\n",
    "\n",
    "# Denoise the image\n",
    "denoised = cv2.fastNlMeansDenoising(enhanced, None, 10, 7, 21)\n",
    "\n",
    "# Apply binary thresholding to get black text on white background\n",
    "_, binary = cv2.threshold(denoised, 200, 255, cv2.THRESH_BINARY)\n",
    "\n",
    "# Apply morphological operations with an adjustable kernel\n",
    "kernel_size = 51  # Start here, can increase up to 51 or 101\n",
    "kernel = np.ones((kernel_size, kernel_size), np.uint8)\n",
    "cleaned = cv2.morphologyEx(binary, cv2.MORPH_CLOSE, kernel, iterations=1)\n",
    "cleaned = cv2.morphologyEx(cleaned, cv2.MORPH_OPEN, kernel, iterations=1)\n",
    "\n",
    "# Create the final output image (white background with black text)\n",
    "output_image = np.ones_like(image) * 255\n",
    "output_image[combined_mask > 0] = 0  # Set black regions\n",
    "output_image = cv2.cvtColor(output_image, cv2.COLOR_BGR2GRAY)  # Convert to grayscale for simplicity\n"
   ]
  },
  {
   "cell_type": "code",
   "execution_count": 3,
   "metadata": {},
   "outputs": [
    {
     "name": "stdout",
     "output_type": "stream",
     "text": [
      "Image saved to docs/output_cleaned.jpg\n"
     ]
    }
   ],
   "source": [
    "# Save the result\n",
    "cv2.imwrite(output_path, output_image)\n",
    "print(f\"Image saved to {output_path}\")"
   ]
  }
 ],
 "metadata": {
  "kernelspec": {
   "display_name": "image_processing",
   "language": "python",
   "name": "python3"
  },
  "language_info": {
   "codemirror_mode": {
    "name": "ipython",
    "version": 3
   },
   "file_extension": ".py",
   "mimetype": "text/x-python",
   "name": "python",
   "nbconvert_exporter": "python",
   "pygments_lexer": "ipython3",
   "version": "3.9.21"
  }
 },
 "nbformat": 4,
 "nbformat_minor": 2
}
